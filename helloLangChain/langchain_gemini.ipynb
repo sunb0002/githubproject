{
 "cells": [
  {
   "cell_type": "code",
   "execution_count": 36,
   "metadata": {},
   "outputs": [],
   "source": [
    "import requests\n",
    "import os\n",
    "from dotenv import find_dotenv, load_dotenv\n",
    "from langchain.chains import LLMChain\n",
    "from langchain_google_genai import GoogleGenerativeAI\n",
    "from langchain.chat_models import AzureChatOpenAI\n",
    "from langchain.prompts import PromptTemplate\n",
    "from langchain.schema.output_parser import StrOutputParser\n",
    "\n",
    "load_dotenv(find_dotenv())\n",
    "GOOGLE_API_KEY = os.getenv(\"GOOGLE_API_KEY\")\n",
    "HUGGINGFACE_API_TOKEN = os.getenv(\"HUGGINGFACE_API_TOKEN\")\n",
    "AUDIO_FILE_NAME = r\"speech_nb.wav\""
   ]
  },
  {
   "cell_type": "code",
   "execution_count": 37,
   "metadata": {},
   "outputs": [],
   "source": [
    "def text2story():\n",
    "    llm = GoogleGenerativeAI(model=\"gemini-pro\", google_api_key=GOOGLE_API_KEY)\n",
    "    return LLMChain(\n",
    "        llm=llm,\n",
    "        prompt=PromptTemplate.from_template(\n",
    "            \"Tell a story no longer than 50 words, based on this context: {context}\"\n",
    "        ),\n",
    "        output_parser=StrOutputParser(),\n",
    "    )\n",
    "\n",
    "\n",
    "def text2audio(text):\n",
    "    API_URL = \"https://api-inference.huggingface.co/models/facebook/mms-tts-eng\"\n",
    "    headers = {\"Authorization\": f\"Bearer {HUGGINGFACE_API_TOKEN}\"}\n",
    "    audio_bytes = requests.post(API_URL, headers=headers, json={\"inputs\": text}).content\n",
    "    with open(AUDIO_FILE_NAME, mode=\"wb\") as f:\n",
    "        f.write(audio_bytes)\n",
    "    return\n",
    "\n",
    "\n",
    "def execute_chain(text):\n",
    "    story = text2story().run(text)\n",
    "    text2audio(story)\n",
    "    return story, AUDIO_FILE_NAME"
   ]
  },
  {
   "cell_type": "code",
   "execution_count": 38,
   "metadata": {},
   "outputs": [
    {
     "name": "stdout",
     "output_type": "stream",
     "text": [
      "Running on local URL:  http://127.0.0.1:7868\n",
      "\n",
      "To create a public link, set `share=True` in `launch()`.\n"
     ]
    },
    {
     "data": {
      "text/html": [
       "<div><iframe src=\"http://127.0.0.1:7868/\" width=\"100%\" height=\"500\" allow=\"autoplay; camera; microphone; clipboard-read; clipboard-write;\" frameborder=\"0\" allowfullscreen></iframe></div>"
      ],
      "text/plain": [
       "<IPython.core.display.HTML object>"
      ]
     },
     "metadata": {},
     "output_type": "display_data"
    },
    {
     "data": {
      "text/plain": []
     },
     "execution_count": 38,
     "metadata": {},
     "output_type": "execute_result"
    }
   ],
   "source": [
    "import gradio as gr\n",
    "\n",
    "demo = gr.Interface(\n",
    "    fn=execute_chain,\n",
    "    inputs=gr.Textbox(label=\"Story context\", lines=3, placeholder=\"Enter here\"),\n",
    "    outputs=[\n",
    "        gr.Textbox(label=\"Full story\"),\n",
    "        gr.Audio(label=\"Story audio\"),\n",
    "    ],\n",
    ")\n",
    "\n",
    "demo.launch()"
   ]
  }
 ],
 "metadata": {
  "kernelspec": {
   "display_name": "ML",
   "language": "python",
   "name": "python3"
  },
  "language_info": {
   "codemirror_mode": {
    "name": "ipython",
    "version": 3
   },
   "file_extension": ".py",
   "mimetype": "text/x-python",
   "name": "python",
   "nbconvert_exporter": "python",
   "pygments_lexer": "ipython3",
   "version": "3.10.11"
  }
 },
 "nbformat": 4,
 "nbformat_minor": 2
}
